{
 "cells": [
  {
   "cell_type": "code",
   "execution_count": 8,
   "metadata": {},
   "outputs": [
    {
     "data": {
      "text/plain": [
       "{'id': '0', 'label': '종사자', 'degree': '3', 'color': '#973865'}"
      ]
     },
     "execution_count": 8,
     "metadata": {},
     "output_type": "execute_result"
    }
   ],
   "source": [
    "test = \"{'id': 0, 'label': '종사자', 'degree': 3, 'color': '#973865'}\"\n",
    "\n",
    "def dict_format_to_dict(dict_format_str: str):\n",
    "    new_dict = dict()\n",
    "    \n",
    "    new_string = dict_format_str.replace('{', '').replace('}', '')\n",
    "    tokens = new_string.split(',')\n",
    "    \n",
    "    for token in tokens:\n",
    "        key, value = token.split(':')\n",
    "        \n",
    "        key = key.replace(' ', '').replace('\\'', '')\n",
    "        value = value.replace(' ', '').replace('\\'', '')\n",
    "        new_dict[key] = value\n",
    "        \n",
    "    return new_dict\n",
    "    \n",
    "    \n",
    "dict_format_to_dict(test)"
   ]
  },
  {
   "cell_type": "code",
   "execution_count": null,
   "metadata": {},
   "outputs": [],
   "source": []
  }
 ],
 "metadata": {
  "kernelspec": {
   "display_name": "Python 3",
   "language": "python",
   "name": "python3"
  },
  "language_info": {
   "codemirror_mode": {
    "name": "ipython",
    "version": 3
   },
   "file_extension": ".py",
   "mimetype": "text/x-python",
   "name": "python",
   "nbconvert_exporter": "python",
   "pygments_lexer": "ipython3",
   "version": "3.8.5"
  }
 },
 "nbformat": 4,
 "nbformat_minor": 4
}
